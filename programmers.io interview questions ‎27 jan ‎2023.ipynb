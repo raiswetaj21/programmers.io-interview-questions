{
 "cells": [
  {
   "cell_type": "markdown",
   "id": "0b30d26a",
   "metadata": {},
   "source": [
    "Write a Python program to rearrange positive and negative numbers in a given array using Lambda."
   ]
  },
  {
   "cell_type": "code",
   "execution_count": 1,
   "id": "cc484e20",
   "metadata": {},
   "outputs": [
    {
     "data": {
      "text/plain": [
       "[2, 5, 7, 8, 9, -10, -3, -1]"
      ]
     },
     "execution_count": 1,
     "metadata": {},
     "output_type": "execute_result"
    }
   ],
   "source": [
    "arr_nums = [-1, 2, -3, 5, 7, 8, 9, -10]\n",
    "\n",
    "result = sorted(arr_nums, key = lambda i: 0 if i == 0 else -1 / i)\n",
    "\n",
    "result"
   ]
  },
  {
   "cell_type": "markdown",
   "id": "8d041451",
   "metadata": {},
   "source": [
    "Write a Python program to create a list by concatenating a given list with a range from 1 to n."
   ]
  },
  {
   "cell_type": "code",
   "execution_count": 2,
   "id": "28ba32ae",
   "metadata": {},
   "outputs": [
    {
     "data": {
      "text/plain": [
       "['p1', 'q1', 'p2', 'q2', 'p3', 'q3', 'p4', 'q4', 'p5', 'q5']"
      ]
     },
     "execution_count": 2,
     "metadata": {},
     "output_type": "execute_result"
    }
   ],
   "source": [
    "n = 5\n",
    "list1 = ['p','q']\n",
    "\n",
    "new_list = ['{}{}'.format(x, y) for y in range(1, n+1) for x in list1]\n",
    "new_list"
   ]
  },
  {
   "cell_type": "markdown",
   "id": "8fa3de57",
   "metadata": {},
   "source": [
    "Write a Python program to get unique values from a list."
   ]
  },
  {
   "cell_type": "code",
   "execution_count": 3,
   "id": "90ab8b92",
   "metadata": {},
   "outputs": [
    {
     "data": {
      "text/plain": [
       "{10, 20, 30, 40, 50, 60, 70, 80}"
      ]
     },
     "execution_count": 3,
     "metadata": {},
     "output_type": "execute_result"
    }
   ],
   "source": [
    "sample_list = [10, 20, 30, 40, 40, 50, 60, 60, 70, 80, 80]\n",
    "\n",
    "unique_values = set(sample_list)\n",
    "\n",
    "unique_values"
   ]
  },
  {
   "cell_type": "markdown",
   "id": "e0751455",
   "metadata": {},
   "source": [
    "Write a query to display the columns in a specific order, such as order date, salesman ID, order number, and purchase amount for all orders."
   ]
  },
  {
   "cell_type": "markdown",
   "id": "909de899",
   "metadata": {},
   "source": [
    "SELECT salesman_id, order_number, purchase_amount, order_date FROM orders_table ORDER BY order_date;"
   ]
  }
 ],
 "metadata": {
  "kernelspec": {
   "display_name": "Python 3",
   "language": "python",
   "name": "python3"
  },
  "language_info": {
   "codemirror_mode": {
    "name": "ipython",
    "version": 3
   },
   "file_extension": ".py",
   "mimetype": "text/x-python",
   "name": "python",
   "nbconvert_exporter": "python",
   "pygments_lexer": "ipython3",
   "version": "3.8.8"
  }
 },
 "nbformat": 4,
 "nbformat_minor": 5
}
